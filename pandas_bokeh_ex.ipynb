{
 "cells": [
  {
   "cell_type": "code",
   "execution_count": 3,
   "id": "e25e8a85",
   "metadata": {},
   "outputs": [],
   "source": [
    "#making a basic bokeh graph using pandas (csv files)\n",
    "#importing bokeh\n",
    "from bokeh.plotting import figure\n",
    "from bokeh.io import output_file, show\n",
    "import pandas"
   ]
  },
  {
   "cell_type": "code",
   "execution_count": 14,
   "id": "f44ae8b9",
   "metadata": {},
   "outputs": [],
   "source": [
    "#df=pandas.read_csv(\"data.csv\")\n",
    "#output_file(\"line1.html\")\n",
    "f=figure()\n",
    "#f.line(df.x,df.y)\n",
    "#show(f)\n",
    "\n",
    "df2=pandas.read_csv(\"bachelors.csv\")\n",
    "output_file(\"eduction_data_graph.html\")\n",
    "f.line(df2.Year,df2.Engineering)\n",
    "show(f)\n",
    "#print(df2.Year)"
   ]
  }
 ],
 "metadata": {
  "kernelspec": {
   "display_name": "Python 3 (ipykernel)",
   "language": "python",
   "name": "python3"
  },
  "language_info": {
   "codemirror_mode": {
    "name": "ipython",
    "version": 3
   },
   "file_extension": ".py",
   "mimetype": "text/x-python",
   "name": "python",
   "nbconvert_exporter": "python",
   "pygments_lexer": "ipython3",
   "version": "3.9.10"
  }
 },
 "nbformat": 4,
 "nbformat_minor": 5
}
