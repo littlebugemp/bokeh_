{
 "cells": [
  {
   "cell_type": "code",
   "execution_count": 12,
   "id": "f83dd086",
   "metadata": {},
   "outputs": [],
   "source": [
    "#plotting weather data in a custom graph\n",
    "import pandas\n",
    "from bokeh.io import output_file, show\n",
    "from bokeh.plotting import figure\n",
    "\n",
    "#openning the excel file\n",
    "df=pandas.read_excel(\"https://github.com/pythonizing/data/raw/master/verlegenhuken.xlsx\")\n",
    "#df\n",
    "f=figure()\n",
    "f.title.text=\"Temperature and Air Pressure\"\n",
    "f.xaxis.axis_label=\"Temperature (C)\"\n",
    "f.yaxis.axis_label=\"Pressure (hPa)\"\n",
    "x=df.Temperature/10\n",
    "y=df.Pressure/10\n",
    "#print(df)\n",
    "f.circle(x,y,size=0.5)\n",
    "output_file(\"Weather_data.html\")\n",
    "show(f)"
   ]
  }
 ],
 "metadata": {
  "kernelspec": {
   "display_name": "Python 3 (ipykernel)",
   "language": "python",
   "name": "python3"
  },
  "language_info": {
   "codemirror_mode": {
    "name": "ipython",
    "version": 3
   },
   "file_extension": ".py",
   "mimetype": "text/x-python",
   "name": "python",
   "nbconvert_exporter": "python",
   "pygments_lexer": "ipython3",
   "version": "3.9.10"
  }
 },
 "nbformat": 4,
 "nbformat_minor": 5
}
