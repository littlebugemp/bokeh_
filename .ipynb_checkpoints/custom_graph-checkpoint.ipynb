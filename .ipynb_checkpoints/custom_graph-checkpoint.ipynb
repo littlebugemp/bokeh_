{
 "cells": [
  {
   "cell_type": "code",
   "execution_count": 4,
   "id": "37b56286",
   "metadata": {},
   "outputs": [
    {
     "name": "stderr",
     "output_type": "stream",
     "text": [
      "WARNING:bokeh.core.validation.check:W-1000 (MISSING_RENDERERS): Plot has no renderers: Figure(id='1023', ...)\n"
     ]
    }
   ],
   "source": [
    "#create a custom graph by changing plot properties ---\n",
    "#add a title\n",
    "#set the figure width, height\n",
    "#change the title font\n",
    "\n",
    "import pandas\n",
    "from bokeh.io import output_file, show\n",
    "from bokeh.plotting import figure\n",
    "\n",
    "#giving custom parameters\n",
    "p=figure(plot_width=500,plot_height=400,tools='pan')\n",
    "\n",
    "#adding custom properties\n",
    "p.title.text=\"Cool Data\"\n",
    "p.title.text_color=\"Gray\"\n",
    "p.title.text_font=\"times\"\n",
    "p.title.text_font_style=\"bold\"\n",
    "p.xaxis.minor_tick_line_color=None\n",
    "p.yaxis.minor_tick_line_color=None\n",
    "p.xaxis.axis_lable=\"Date\"\n",
    "p.yaxis.axis_lable=\"Intensity\"\n",
    "\n",
    "p.line([1,2,3],[4,5,6])\n",
    "output_file(\"custom_graph.html\")\n",
    "show(p)\n"
   ]
  }
 ],
 "metadata": {
  "kernelspec": {
   "display_name": "Python 3 (ipykernel)",
   "language": "python",
   "name": "python3"
  },
  "language_info": {
   "codemirror_mode": {
    "name": "ipython",
    "version": 3
   },
   "file_extension": ".py",
   "mimetype": "text/x-python",
   "name": "python",
   "nbconvert_exporter": "python",
   "pygments_lexer": "ipython3",
   "version": "3.9.10"
  }
 },
 "nbformat": 4,
 "nbformat_minor": 5
}
