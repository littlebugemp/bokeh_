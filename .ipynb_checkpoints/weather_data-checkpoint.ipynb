{
 "cells": [
  {
   "cell_type": "code",
   "execution_count": 11,
   "id": "4f3a8242",
   "metadata": {},
   "outputs": [
    {
     "name": "stdout",
     "output_type": "stream",
     "text": [
      "       Year  Month  Day  Hour  Temperature  Pressure\n",
      "0      2010     10    6     3          -30      9984\n",
      "1      2010     10    6     9          -28      9992\n",
      "2      2010     10    6    10          -24      9987\n",
      "3      2010     10    6    11          -19      9987\n",
      "4      2010     10    6    12          -19      9985\n",
      "...     ...    ...  ...   ...          ...       ...\n",
      "33097  2014     12   30     9         -116      9896\n",
      "33098  2014     12   30    12         -103      9866\n",
      "33099  2014     12   30    15          -97      9826\n",
      "33100  2014     12   30    18          -93      9829\n",
      "33101  2014     12   30    21          -86      9804\n",
      "\n",
      "[33102 rows x 6 columns]\n"
     ]
    }
   ],
   "source": [
    "#plotting weather data in a custom graph\n",
    "import pandas\n",
    "from bokeh.io import output_file, show\n",
    "from bokeh.plotting import figure\n",
    "\n",
    "#openning the excel file\n",
    "df=pandas.read_excel(\"https://github.com/pythonizing/data/raw/master/verlegenhuken.xlsx\")\n",
    "#df\n",
    "f=figure()\n",
    "f.title.text=\"Temperature and Air Pressure\"\n",
    "f.xaxis.axis_label=\"Temperature (C)\"\n",
    "f.yaxis.axis_label=\"Pressure (hPa)\"\n",
    "x=df.Temperature/10\n",
    "y=df.Pressure/10\n",
    "#print(df)\n",
    "f.circle(x,y,size=0.5)\n",
    "output_file(\"Weather_data.html\")\n",
    "show(f)"
   ]
  }
 ],
 "metadata": {
  "kernelspec": {
   "display_name": "Python 3 (ipykernel)",
   "language": "python",
   "name": "python3"
  },
  "language_info": {
   "codemirror_mode": {
    "name": "ipython",
    "version": 3
   },
   "file_extension": ".py",
   "mimetype": "text/x-python",
   "name": "python",
   "nbconvert_exporter": "python",
   "pygments_lexer": "ipython3",
   "version": "3.9.10"
  }
 },
 "nbformat": 4,
 "nbformat_minor": 5
}
